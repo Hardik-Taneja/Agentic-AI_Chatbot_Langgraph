{
 "cells": [
  {
   "cell_type": "code",
   "execution_count": 1,
   "metadata": {},
   "outputs": [],
   "source": [
    "## tools\n",
    "\n",
    "from langchain_community.tools import ArxivQueryRun,WikipediaQueryRun\n",
    "from langchain_community.utilities import WikipediaAPIWrapper,ArxivAPIWrapper"
   ]
  },
  {
   "cell_type": "code",
   "execution_count": 2,
   "metadata": {},
   "outputs": [
    {
     "name": "stdout",
     "output_type": "stream",
     "text": [
      "arxiv\n"
     ]
    }
   ],
   "source": [
    "api_wrapper_arxiv=ArxivAPIWrapper(top_k_results=2,doc_content_chars_max=500)\n",
    "arxiv=ArxivQueryRun(api_wrapper=api_wrapper_arxiv,description=\"Query arxiv papers\")\n",
    "print(arxiv.name)"
   ]
  },
  {
   "cell_type": "code",
   "execution_count": 3,
   "metadata": {},
   "outputs": [
    {
     "data": {
      "text/plain": [
       "'Published: 2023-05-23\\nTitle: Fast and energy-efficient non-volatile III-V-on-silicon photonic phase shifter based on memristors\\nAuthors: Zhuoran Fang, Bassem Tossoun, Antoine Descos, Di Liang, Xue Huang, Geza Kurczveil, Arka Majumdar, Raymond G. Beausoleil\\nSummary: Silicon photonics has evolved from lab research to commercial products in the\\npast decade as it plays an increasingly crucial role in data communication for\\nnext-generation data centers and high performance computing1. Recently,\\nprogr'"
      ]
     },
     "execution_count": 3,
     "metadata": {},
     "output_type": "execute_result"
    }
   ],
   "source": [
    "arxiv.invoke(\"What is the latest research on quantum computing?\")"
   ]
  },
  {
   "cell_type": "code",
   "execution_count": 4,
   "metadata": {},
   "outputs": [
    {
     "data": {
      "text/plain": [
       "'wikipedia'"
      ]
     },
     "execution_count": 4,
     "metadata": {},
     "output_type": "execute_result"
    }
   ],
   "source": [
    "api_wrapper_wiki=WikipediaAPIWrapper(top_k_results=1,doc_content_chars_max=500)\n",
    "wiki=WikipediaQueryRun(api_wrapper=api_wrapper_wiki)\n",
    "wiki.name"
   ]
  },
  {
   "cell_type": "code",
   "execution_count": 7,
   "metadata": {},
   "outputs": [],
   "source": [
    "from dotenv import load_dotenv\n",
    "load_dotenv()\n",
    "\n",
    "import os\n",
    "\n",
    "os.environ[\"TAVILY_API_KEY\"]=os.getenv(\"TAVILY_API_KEY\")\n",
    "os.environ[\"GROQ_API_KEY\"]=os.getenv(\"GROQ_API_KEY\")"
   ]
  },
  {
   "cell_type": "code",
   "execution_count": 8,
   "metadata": {},
   "outputs": [
    {
     "name": "stderr",
     "output_type": "stream",
     "text": [
      "C:\\Users\\HP\\AppData\\Local\\Temp\\ipykernel_13616\\3584238.py:4: LangChainDeprecationWarning: The class `TavilySearchResults` was deprecated in LangChain 0.3.25 and will be removed in 1.0. An updated version of the class exists in the :class:`~langchain-tavily package and should be used instead. To use it run `pip install -U :class:`~langchain-tavily` and import as `from :class:`~langchain_tavily import TavilySearch``.\n",
      "  tavily = TavilySearchResults()\n"
     ]
    }
   ],
   "source": [
    "### Tavily Search Tool\n",
    "from langchain_community.tools.tavily_search import TavilySearchResults\n",
    "\n",
    "tavily = TavilySearchResults()"
   ]
  },
  {
   "cell_type": "code",
   "execution_count": 9,
   "metadata": {},
   "outputs": [
    {
     "data": {
      "text/plain": [
       "[{'title': 'Artificial Intelligence News - ScienceDaily',\n",
       "  'url': 'https://www.sciencedaily.com/news/computers_math/artificial_intelligence/',\n",
       "  'content': '### Thursday, April 3, 2025\\n\\n### Thursday, March 27, 2025\\n\\n### Wednesday, March 26, 2025\\n\\n### Tuesday, March 25, 2025\\n\\n### Thursday, March 20, 2025\\n\\n### Wednesday, March 19, 2025\\n\\n### Tuesday, March 18, 2025\\n\\n### Monday, March 17, 2025\\n\\n### Thursday, March 6, 2025\\n\\n### Wednesday, March 5, 2025\\n\\n### Tuesday, March 4, 2025\\n\\n### Thursday, February 27, 2025\\n\\n### Wednesday, February 26, 2025\\n\\n### Tuesday, February 25, 2025\\n\\n### Friday, February 21, 2025\\n\\n### Thursday, February 20, 2025 [...] ![ScienceDaily](/images/sd-logo.png)\\n\\n# Artificial Intelligence News\\n\\n## Top Headlines\\n\\n## Latest Headlines\\n\\n## Earlier Headlines\\n\\n### Wednesday, May 7, 2025\\n\\n### Tuesday, May 6, 2025\\n\\n### Monday, May 5, 2025\\n\\n### Thursday, May 1, 2025\\n\\n### Wednesday, April 30, 2025\\n\\n### Friday, April 25, 2025\\n\\n### Thursday, April 24, 2025\\n\\n### Wednesday, April 23, 2025\\n\\n### Tuesday, April 22, 2025\\n\\n### Tuesday, April 15, 2025\\n\\n### Monday, April 14, 2025\\n\\n### Wednesday, April 9, 2025\\n\\n### Tuesday, April 8, 2025 [...] ### Wednesday, February 19, 2025\\n\\n### Thursday, February 13, 2025\\n\\n### Monday, February 10, 2025\\n\\n### Monday, February 3, 2025\\n\\n### Wednesday, January 29, 2025\\n\\n### Tuesday, January 28, 2025\\n\\n### Monday, January 27, 2025\\n\\n### Tuesday, January 21, 2025\\n\\n### Thursday, January 16, 2025\\n\\n### Wednesday, January 15, 2025\\n\\n### Tuesday, January 14, 2025\\n\\n### Thursday, January 9, 2025\\n\\n### Wednesday, January 8, 2025\\n\\n### Monday, January 6, 2025\\n\\n### Thursday, January 2, 2025',\n",
       "  'score': 0.7001783},\n",
       " {'title': 'AI News & Artificial Intelligence - TechCrunch',\n",
       "  'url': 'https://techcrunch.com/category/artificial-intelligence/',\n",
       "  'content': '### [Apple’s upgraded AI models underwhelm on performance](https://techcrunch.com/2025/06/10/apples-upgraded-ai-models-underwhelm-on-performance/)\\n\\n![US 100 dollar bill on a fishing hook](https://techcrunch.com/wp-content/uploads/2022/02/GettyImages-1298151204.jpg?w=563)\\n\\n### [Enterprise AI startup Glean lands a $7.2B valuation](https://techcrunch.com/2025/06/10/enterprise-ai-startup-glean-lands-a-7-2b-valuation/) [...] ### [Sam Altman thinks AI will have ‘novel insights’ next year](https://techcrunch.com/2025/06/11/sam-altman-thinks-ai-will-have-novel-insights-next-year/)\\n\\n![Sam Altman speaks onstage during The New York Times Dealbook Summit 2024.](https://techcrunch.com/wp-content/uploads/2024/12/GettyImages-2188228027_e26224.jpg?w=491)\\n\\n### [OpenAI’s open model is delayed](https://techcrunch.com/2025/06/10/openais-open-model-is-delayed/) [...] ### [Google rolls out Android 16 to Pixel phones, unveils AI-powered edit suggestion for Google Photos](https://techcrunch.com/2025/06/10/google-is-rolling-out-android-16-to-pixel-phones-announces-ai-powered-edit-suggestion-to-google-photos/)\\n\\n![The Apple Store in Turin is placed in Via Roma in the center of the city.](https://techcrunch.com/wp-content/uploads/2025/02/Apple-logo-Getty.jpg?w=563)',\n",
       "  'score': 0.6551821},\n",
       " {'title': 'AI News | Latest AI News, Analysis & Events',\n",
       "  'url': 'https://www.artificialintelligence-news.com/',\n",
       "  'content': 'AI News reports on the latest artificial intelligence news and insights. Explore industry trends from the frontline of AI.',\n",
       "  'score': 0.650934},\n",
       " {'title': 'Artificial Intelligence | Latest News, Photos & Videos - WIRED',\n",
       "  'url': 'https://www.wired.com/tag/artificial-intelligence/',\n",
       "  'content': '### Facing a Changing Industry, AI Activists Rethink Their Strategy\\n\\n![Demis Hassabis Embraces the Future of Work in the Age of AI](https://media.wired.com/photos/683e039d7fcbfb59910b6706/3:2/w_1280%2Cc_limit/DSC09515.jpg)\\n\\n### Demis Hassabis Embraces the Future of Work in the Age of AI\\n\\n### Deepfake Scams Are Distorting Reality Itself\\n\\n![The Rise of ‘Vibe Hacking’ Is the Next AI Nightmare](https://media.wired.com/photos/683dde00bb81c8212495c31b/3:2/w_1280%2Cc_limit/WIRED%2520STILL%252002.png) [...] ### AI Chatbots Are Making LA Protest Disinformation Worse\\n\\n![A Political Battle Is Brewing Over Data Centers](https://media.wired.com/photos/684036ef4c253f09088b983a/3:2/w_1280%2Cc_limit/GettyImages-2213382270.jpg)\\n\\n### A Political Battle Is Brewing Over Data Centers\\n\\n![Apple Is Pushing AI Into More of Its Products&-but Still Lacks a State-of-the-Art Model](https://media.wired.com/photos/684726c94c3cf40b5be20abf/3:2/w_1280%2Cc_limit/Apple-WWDC25-Apple-Intelligence-hero-250609.jpg)',\n",
       "  'score': 0.62824833},\n",
       " {'title': 'Artificial intelligence - NBC News',\n",
       "  'url': 'https://www.nbcnews.com/artificial-intelligence',\n",
       "  'content': \"## [Hollywood giants sue AI image firm for unlicensed use of 'Star Wars,' 'The Simpsons' and more](https://www.nbcnews.com/business/business-news/disney-universal-sue-ai-image-company-midjourney-unlicensed-star-wars-rcna212369)\\n\\n## AI NEWS\\n\\n![Corporate CEO's Speak At The Hill & Valley Forum On Capitol Hill](https://media-cldnry.s-nbcnews.com/image/upload/t_focal-80x80,f_auto,q_auto:best/rockcms/2025-06/250605-alex-karp-ew-154p-0546d9.jpg) [...] ## Nvidia CEO hails Trump's plan to rescind some export curbs on AI chips to China\\n\\n![Jensen Huang](https://media-cldnry.s-nbcnews.com/image/upload/t_focal-200x100,f_auto,q_auto:best/rockcms/2025-05/250521-Jensen-Huang-RS-5faf64.jpg)\\n![Jensen Huang](https://media-cldnry.s-nbcnews.com/image/upload/t_focal-200x100,f_auto,q_auto:best/rockcms/2025-05/250521-Jensen-Huang-RS-5faf64.jpg)\\n\\n## Google I/O 2025: Gemini AI, Android XR glasses, Google Beam, Project Astra, Chrome and deep search news [...] ![](https://media-cldnry.s-nbcnews.com/image/upload/t_focal-260x130,f_auto,q_auto:best/mpx/2704722219/2025_03/1741305825834_nn_emc_aicompanions_250306_1920x1080-uqwbkq.jpg)\\n\\n## 02:54\\n\\n### [A.I. chatbots becoming popular but worry privacy advocates](https://www.nbcnews.com/nightly-news/video/a-i-chatbots-becoming-popular-but-worry-privacy-advocates-233710149872)\\n\\n## Nightly News\\n\\n## MORE AI NEWS\\n\\n## The internet thinks this video from Gaza is AI. Here's how we proved it isn't.\",\n",
       "  'score': 0.6158511}]"
      ]
     },
     "execution_count": 9,
     "metadata": {},
     "output_type": "execute_result"
    }
   ],
   "source": [
    "tavily.invoke(\"Provide me the recent AI news?\")"
   ]
  },
  {
   "cell_type": "code",
   "execution_count": 10,
   "metadata": {},
   "outputs": [],
   "source": [
    "## combine all these tools in the list\n",
    "tools=[arxiv, wiki, tavily]"
   ]
  },
  {
   "cell_type": "code",
   "execution_count": 11,
   "metadata": {},
   "outputs": [],
   "source": [
    "## Initialize the LLM Model\n",
    "from langchain_groq import ChatGroq\n",
    "\n",
    "llm=ChatGroq(model=\"qwen-qwq-32b\")\n"
   ]
  },
  {
   "cell_type": "code",
   "execution_count": 12,
   "metadata": {},
   "outputs": [
    {
     "data": {
      "text/plain": [
       "AIMessage(content='\\n<think>\\nOkay, so the user is asking, \"What is AI?\" Hmm, where do I start? I need to define AI first. Let me think... AI stands for Artificial Intelligence. It\\'s a broad field, right? So maybe I should break it down into components. Let me recall what I know.\\n\\nFirst, AI is a branch of computer science. The main goal is to create machines that can perform tasks requiring human-like intelligence. But how exactly? Oh right, there are various approaches. Maybe I should mention some key areas like machine learning, deep learning, and neural networks.\\n\\nWait, the user might not be familiar with those terms, so maybe start with a simple definition. AI involves machines that can perceive their environment and take actions to maximize the chance of successfully achieving goals. That\\'s from the textbook definition. But maybe I should also touch on the history a bit. The term was coined in the 1950s, right? Dartmouth Conference in 1956? That\\'s a good point to include for context.\\n\\nAlso, it\\'s important to distinguish between different types of AI. I remember there\\'s something about general vs. narrow AI. Narrow AI is what\\'s common now, like voice assistants. General AI is still theoretical, right? So that\\'s a key distinction to make.\\n\\nApplications are important too. People encounter AI in their daily lives. Examples like Siri, recommendation systems on Netflix, self-driving cars. Maybe mention a few to make it relatable. Also, mention how AI works through algorithms and data. Machine learning is a subset where systems learn from data without being explicitly programmed. That\\'s a critical point to explain the difference from traditional programming.\\n\\nWait, I should also cover the techniques. Machine learning, deep learning (which uses neural networks), natural language processing (NLP), computer vision. These are all subfields under AI. Maybe list them briefly but explain each in simple terms. Like, NLP deals with language understanding, computer vision with image recognition.\\n\\nEthics and challenges are also important. Issues like bias in data, privacy concerns, job displacement. Oh, and the difference between AI and robotics? Maybe clarify that AI is the intelligence part, while robotics is the physical aspect. Some AI is in robots, but not all.\\n\\nHmm, should I mention famous AI milestones? Like AlphaGo beating a human champion, or the development of GPT. That might add some interesting points. Also, maybe touch on how AI is used in healthcare for diagnostics or in finance for fraud detection.\\n\\nWait, the user might be confused between AI, machine learning, and deep learning. Need to clarify that hierarchy. AI is the broad field, machine learning is a subset focused on learning from data, and deep learning is a subset of ML using neural networks with many layers.\\n\\nI should structure this in a way that\\'s easy to follow. Start with a definition, then types (narrow vs. general), key areas, applications, how it works, and then maybe challenges or future considerations.\\n\\nLet me also think about common misconceptions. Like AI being self-aware or sentient, which it\\'s not yet. That\\'s a common point to clarify to avoid confusion.\\n\\nOkay, putting it all together: start with the basic definition, historical context, types of AI, key techniques, real-world applications, how it works, and touch on challenges and ethics. Make sure to use examples to illustrate points. Keep it clear and not too technical, since the user might be a beginner. Alright, that should cover it without overwhelming them.\\n</think>\\n\\n**Artificial Intelligence (AI)** is a broad field of computer science focused on creating systems that can perform tasks requiring human-like intelligence. These tasks include learning, reasoning, problem-solving, perception, language understanding, and decision-making. Here\\'s a structured overview:\\n\\n---\\n\\n### **1. Definition & Goals**\\n- **AI** aims to develop machines or software that can:  \\n  - *Perceive* their environment (e.g., through sensors, data, or text).  \\n  - *Learn* from data to improve performance over time.  \\n  - *Act* to achieve specific goals (e.g., driving a car, recommending a movie).  \\n\\n- The ultimate goal of **artificial general intelligence (AGI)** is to create systems with *human-like versatility*, but this remains theoretical. Current AI is mostly **narrow or weak AI**, which excels at specific tasks.\\n\\n---\\n\\n### **2. Types of AI**\\n- **Narrow (Weak) AI**:  \\n  Specializes in one task. Examples include:  \\n  - Voice assistants (e.g., Siri, Alexa).  \\n  - Recommendation systems (e.g., Netflix, Spotify).  \\n  - Image recognition (e.g., facial recognition in phones).  \\n\\n- **General (Strong) AI**:  \\n  Hypothetical systems that can perform *any intellectual task a human can*. Not yet achieved, though research continues.\\n\\n---\\n\\n### **3. Key Techniques & Subfields**\\nAI uses various methods and subfields:  \\n- **Machine Learning (ML)**:  \\n  A subset of AI where systems learn patterns from data to make predictions or decisions.  \\n  - Example: Training an algorithm to detect spam emails.  \\n\\n- **Deep Learning**:  \\n  A type of ML using **neural networks** (layered algorithms inspired by the brain).  \\n  - Example: Self-driving cars analyzing road data.  \\n\\n- **Natural Language Processing (NLP)**:  \\n  Focuses on enabling machines to understand and generate human language.  \\n  - Example: Chatbots, translation tools (e.g., Google Translate).  \\n\\n- **Computer Vision**:  \\n  Teaches machines to interpret visual data (images, videos).  \\n  - Example: Medical imaging analysis for disease detection.  \\n\\n- **Robotics**:  \\n  Combines AI with physical machines to interact with the real world.  \\n  - Example: Assembly-line robots or robotic vacuum cleaners.  \\n\\n---\\n\\n### **4. How It Works**\\nAI systems typically involve:  \\n1. **Data Collection**: Gathering information (e.g., text, images, user behavior).  \\n2. **Training**: Feeding data into algorithms to identify patterns.  \\n3. **Decision-Making**: Using learned patterns to make predictions or take actions.  \\n\\n---\\n\\n### **5. Real-World Applications**\\n- **Healthcare**: Diagnosing diseases, drug discovery, and personalized treatment.  \\n- **Finance**: Fraud detection, algorithmic trading, and risk assessment.  \\n- **Transportation**: Autonomous vehicles.  \\n- **Entertainment**: Personalized content recommendations.  \\n- **Customer Service**: Chatbots and virtual assistants.  \\n\\n---\\n\\n### **6. Challenges & Ethics**\\n- **Bias & Fairness**: AI can inherit biases from training data, leading to unfair outcomes (e.g., facial recognition inaccuracies).  \\n- **Privacy**: Collection of personal data raises concerns about misuse.  \\n- **Job Impact**: Automation may displace certain roles, but also creates new opportunities.  \\n- **Safety**: Ensuring AI systems act ethically and safely, especially in critical domains (e.g., healthcare, military).  \\n\\n---\\n\\n### **7. History & Milestones**\\n- **1950s**: Coined the term \"AI\" at the Dartmouth Conference (1956).  \\n- **2010s**: Advances in **deep learning** (e.g., AlphaGo defeating humans in Go, 2016).  \\n- **2020s**: Large language models (e.g., GPT-4, ChatGPT) and generative AI (e.g., DALL-E, Stable Diffusion).  \\n\\n---\\n\\n### **8. Common Misconceptions**\\n- **AI ≠ Sentience**: Current AI lacks consciousness or self-awareness.  \\n- **Not All Robots Are AI**: Many robots follow preprogrammed instructions, while AI-powered robots learn and adapt.  \\n- **AI ≠ Magic**: It relies on data and algorithms—it’s only as good as its training.  \\n\\n---\\n\\n### **Summary**\\nAI is a transformative technology enabling machines to mimic human intelligence, with applications across industries. While it offers immense potential, its development requires careful consideration of ethics, privacy, and societal impact. Current advancements are driven by machine learning and massive datasets, but the vision of AGI remains a distant and debated goal.  \\n\\nLet me know if you\\'d like deeper details on any of these points!', additional_kwargs={}, response_metadata={'token_usage': {'completion_tokens': 1718, 'prompt_tokens': 13, 'total_tokens': 1731, 'completion_time': 3.967648707, 'prompt_time': 0.003190039, 'queue_time': 0.8317251499999999, 'total_time': 3.970838746}, 'model_name': 'qwen-qwq-32b', 'system_fingerprint': 'fp_9faf42d81f', 'finish_reason': 'stop', 'logprobs': None}, id='run--0a0a63de-a3e2-48ad-83fa-b693f83e8616-0', usage_metadata={'input_tokens': 13, 'output_tokens': 1718, 'total_tokens': 1731})"
      ]
     },
     "execution_count": 12,
     "metadata": {},
     "output_type": "execute_result"
    }
   ],
   "source": [
    "llm.invoke(\"What is AI\")"
   ]
  },
  {
   "cell_type": "code",
   "execution_count": 13,
   "metadata": {},
   "outputs": [],
   "source": [
    "llm_with_tools=llm.bind_tools(tools=tools)\n"
   ]
  },
  {
   "cell_type": "code",
   "execution_count": 14,
   "metadata": {},
   "outputs": [
    {
     "data": {
      "text/plain": [
       "AIMessage(content='', additional_kwargs={'tool_calls': [{'id': 'qpsvx5ffb', 'function': {'arguments': '{\"query\":\"recent news on AI\"}', 'name': 'tavily_search_results_json'}, 'type': 'function'}]}, response_metadata={'token_usage': {'completion_tokens': 134, 'prompt_tokens': 270, 'total_tokens': 404, 'completion_time': 0.31080709, 'prompt_time': 0.014665707, 'queue_time': 0.26649665300000003, 'total_time': 0.325472797}, 'model_name': 'qwen-qwq-32b', 'system_fingerprint': 'fp_9faf42d81f', 'finish_reason': 'tool_calls', 'logprobs': None}, id='run--e533ba1f-4f34-4aee-b1fb-11d58374b92f-0', tool_calls=[{'name': 'tavily_search_results_json', 'args': {'query': 'recent news on AI'}, 'id': 'qpsvx5ffb', 'type': 'tool_call'}], usage_metadata={'input_tokens': 270, 'output_tokens': 134, 'total_tokens': 404})"
      ]
     },
     "execution_count": 14,
     "metadata": {},
     "output_type": "execute_result"
    }
   ],
   "source": [
    "## Execute this call\n",
    "llm_with_tools.invoke(\"What is the recent news on AI?\")"
   ]
  },
  {
   "cell_type": "code",
   "execution_count": 15,
   "metadata": {},
   "outputs": [
    {
     "data": {
      "text/plain": [
       "AIMessage(content='', additional_kwargs={'tool_calls': [{'id': 'qgtxfqx5a', 'function': {'arguments': '{\"query\":\"quantum computing\"}', 'name': 'arxiv'}, 'type': 'function'}]}, response_metadata={'token_usage': {'completion_tokens': 226, 'prompt_tokens': 271, 'total_tokens': 497, 'completion_time': 0.533629502, 'prompt_time': 0.01785424, 'queue_time': 0.27160117, 'total_time': 0.551483742}, 'model_name': 'qwen-qwq-32b', 'system_fingerprint': 'fp_18a313a21d', 'finish_reason': 'tool_calls', 'logprobs': None}, id='run--ce4e1f77-89ba-4cd9-abcd-769d32cc7372-0', tool_calls=[{'name': 'arxiv', 'args': {'query': 'quantum computing'}, 'id': 'qgtxfqx5a', 'type': 'tool_call'}], usage_metadata={'input_tokens': 271, 'output_tokens': 226, 'total_tokens': 497})"
      ]
     },
     "execution_count": 15,
     "metadata": {},
     "output_type": "execute_result"
    }
   ],
   "source": [
    "## Execute this call\n",
    "llm_with_tools.invoke(\"What is the latest research on quantum computing?\")\n"
   ]
  },
  {
   "cell_type": "code",
   "execution_count": 16,
   "metadata": {},
   "outputs": [
    {
     "data": {
      "text/plain": [
       "AIMessage(content='', additional_kwargs={'tool_calls': [{'id': '09hz02ja9', 'function': {'arguments': '{\"query\":\"Machine learning\"}', 'name': 'wikipedia'}, 'type': 'function'}]}, response_metadata={'token_usage': {'completion_tokens': 340, 'prompt_tokens': 267, 'total_tokens': 607, 'completion_time': 0.835470686, 'prompt_time': 0.016221051, 'queue_time': 0.24621806900000004, 'total_time': 0.851691737}, 'model_name': 'qwen-qwq-32b', 'system_fingerprint': 'fp_1e88ca32eb', 'finish_reason': 'tool_calls', 'logprobs': None}, id='run--91522204-3d31-44f2-977d-775ee6433a81-0', tool_calls=[{'name': 'wikipedia', 'args': {'query': 'Machine learning'}, 'id': '09hz02ja9', 'type': 'tool_call'}], usage_metadata={'input_tokens': 267, 'output_tokens': 340, 'total_tokens': 607})"
      ]
     },
     "execution_count": 16,
     "metadata": {},
     "output_type": "execute_result"
    }
   ],
   "source": [
    "## Execute this call\n",
    "llm_with_tools.invoke(\"What is machine learning?\")"
   ]
  },
  {
   "cell_type": "markdown",
   "metadata": {},
   "source": [
    "## Workflow "
   ]
  },
  {
   "cell_type": "code",
   "execution_count": 17,
   "metadata": {},
   "outputs": [],
   "source": [
    "## State Schema\n",
    "from typing_extensions import TypedDict\n",
    "from langchain_core.messages import AnyMessage ## Human message or AI message\n",
    "from typing import Annotated  ## labelling\n",
    "from langgraph.graph.message import add_messages  ## Reducers in Langgraph"
   ]
  },
  {
   "cell_type": "code",
   "execution_count": 18,
   "metadata": {},
   "outputs": [],
   "source": [
    "class State(TypedDict):\n",
    "    messages: Annotated[list[AnyMessage], add_messages]\n",
    "    "
   ]
  },
  {
   "cell_type": "code",
   "execution_count": 19,
   "metadata": {},
   "outputs": [],
   "source": [
    "### Entire Chatbot With LangGraph\n",
    "from IPython.display import Image, display\n",
    "from langgraph.graph import StateGraph, START, END\n",
    "from langgraph.prebuilt import ToolNode\n",
    "from langgraph.prebuilt import tools_condition"
   ]
  },
  {
   "cell_type": "code",
   "execution_count": 20,
   "metadata": {},
   "outputs": [
    {
     "data": {
      "image/png": "[encoded data removed]",
      "text/plain": [
       "<IPython.core.display.Image object>"
      ]
     },
     "metadata": {},
     "output_type": "display_data"
    }
   ],
   "source": [
    "### Node definition\n",
    "def tool_calling_llm(state:State):\n",
    "    return {\"messages\":[llm_with_tools.invoke(state[\"messages\"])]}\n",
    "\n",
    "# Build graph\n",
    "builder = StateGraph(State)\n",
    "builder.add_node(\"tool_calling_llm\", tool_calling_llm)\n",
    "builder.add_node(\"tools\", ToolNode(tools))\n",
    "\n",
    "## Edgess\n",
    "builder.add_edge(START, \"tool_calling_llm\")\n",
    "builder.add_conditional_edges(\n",
    "    \"tool_calling_llm\",\n",
    "    # If the latest message (result) from assistant is a tool call -> tools_condition routes to tools\n",
    "    # If the latest message (result) from assistant is a not a tool call -> tools_condition routes to END\n",
    "    tools_condition,\n",
    ")\n",
    "builder.add_edge(\"tools\", END)\n",
    "\n",
    "graph = builder.compile()\n",
    "\n",
    "# View\n",
    "display(Image(graph.get_graph().draw_mermaid_png()))"
   ]
  },
  {
   "cell_type": "code",
   "execution_count": 21,
   "metadata": {},
   "outputs": [
    {
     "name": "stdout",
     "output_type": "stream",
     "text": [
      "================================\u001b[1m Human Message \u001b[0m=================================\n",
      "\n",
      "1706.03762\n",
      "==================================\u001b[1m Ai Message \u001b[0m==================================\n",
      "Tool Calls:\n",
      "  arxiv (r73zx8r83)\n",
      " Call ID: r73zx8r83\n",
      "  Args:\n",
      "    query: 1706.03762\n",
      "=================================\u001b[1m Tool Message \u001b[0m=================================\n",
      "Name: arxiv\n",
      "\n",
      "Published: 2023-08-02\n",
      "Title: Attention Is All You Need\n",
      "Authors: Ashish Vaswani, Noam Shazeer, Niki Parmar, Jakob Uszkoreit, Llion Jones, Aidan N. Gomez, Lukasz Kaiser, Illia Polosukhin\n",
      "Summary: The dominant sequence transduction models are based on complex recurrent or\n",
      "convolutional neural networks in an encoder-decoder configuration. The best\n",
      "performing models also connect the encoder and decoder through an attention\n",
      "mechanism. We propose a new simple network architecture, the Transformer, base\n"
     ]
    }
   ],
   "source": [
    "messages=graph.invoke({\"messages\":\"1706.03762\"})\n",
    "for m in messages['messages']:\n",
    "    m.pretty_print()"
   ]
  },
  {
   "cell_type": "code",
   "execution_count": 22,
   "metadata": {},
   "outputs": [
    {
     "name": "stdout",
     "output_type": "stream",
     "text": [
      "================================\u001b[1m Human Message \u001b[0m=================================\n",
      "\n",
      "Hi My name is Hardik\n",
      "==================================\u001b[1m Ai Message \u001b[0m==================================\n",
      "\n",
      "Hello Hardik! How can I assist you today?\n"
     ]
    }
   ],
   "source": [
    "messages=graph.invoke({\"messages\":\"Hi My name is Hardik\"})\n",
    "for m in messages['messages']:\n",
    "    m.pretty_print()"
   ]
  },
  {
   "cell_type": "code",
   "execution_count": 23,
   "metadata": {},
   "outputs": [
    {
     "data": {
      "image/png": "[encoded data removed]",
      "text/plain": [
       "<IPython.core.display.Image object>"
      ]
     },
     "metadata": {},
     "output_type": "display_data"
    }
   ],
   "source": [
    "### Node definition\n",
    "def tool_calling_llm(state:State):\n",
    "    return {\"messages\":[llm_with_tools.invoke(state[\"messages\"])]}\n",
    "\n",
    "# Build graph\n",
    "builder = StateGraph(State)\n",
    "builder.add_node(\"tool_calling_llm\", tool_calling_llm)\n",
    "builder.add_node(\"tools\", ToolNode(tools))\n",
    "\n",
    "## Edgess\n",
    "builder.add_edge(START, \"tool_calling_llm\")\n",
    "builder.add_conditional_edges(\n",
    "    \"tool_calling_llm\",\n",
    "    # If the latest message (result) from assistant is a tool call -> tools_condition routes to tools\n",
    "    # If the latest message (result) from assistant is a not a tool call -> tools_condition routes to END\n",
    "    tools_condition,\n",
    ")\n",
    "builder.add_edge(\"tools\", \"tool_calling_llm\")\n",
    "\n",
    "graph = builder.compile()\n",
    "\n",
    "# View\n",
    "display(Image(graph.get_graph().draw_mermaid_png()))"
   ]
  },
  {
   "cell_type": "code",
   "execution_count": 24,
   "metadata": {},
   "outputs": [
    {
     "name": "stdout",
     "output_type": "stream",
     "text": [
      "================================\u001b[1m Human Message \u001b[0m=================================\n",
      "\n",
      "What is the recent AI news and then please tell me the recent research paper on quantum computing?\n",
      "==================================\u001b[1m Ai Message \u001b[0m==================================\n",
      "Tool Calls:\n",
      "  tavily_search_results_json (bwtqtpcvg)\n",
      " Call ID: bwtqtpcvg\n",
      "  Args:\n",
      "    query: recent AI news\n",
      "  arxiv (4wa61xjtr)\n",
      " Call ID: 4wa61xjtr\n",
      "  Args:\n",
      "    query: recent quantum computing research papers\n",
      "=================================\u001b[1m Tool Message \u001b[0m=================================\n",
      "Name: tavily_search_results_json\n",
      "\n",
      "[{\"title\": \"Latest AI Breakthroughs and News: May-June 2025 - Crescendo.ai\", \"url\": \"https://www.crescendo.ai/news/latest-ai-news-and-updates\", \"content\": \"**Date:** June 1, 2025  \\n**Summary:** Ukraine reportedly used AI-enhanced drone swarms in a covert mission dubbed âOperation Spider Webâ to target a Russian bomber. The drones, said to cost as little as the price of an iPhone 16 Pro, represent a new phase of low-cost autonomous warfare. [...] **Date:** May 30, 2025  \\n**Summary:** Nvidia CEO Jensen Huang issued a bold warning about the rapid evolution of AI, emphasizing that people who fail to adopt AI in their workflow risk being replaced by those who do. His comments underline the urgency for upskilling in a transforming job market. [...] **Date:** May 31, 2025  \\n**Summary:** Monash University has announced a landmark investment in an AI supercomputer, becoming the first higher education institute in Australia to do so. The system will significantly accelerate national research across AI, medicine, and engineering fields.\", \"score\": 0.8763069}]\n",
      "=================================\u001b[1m Tool Message \u001b[0m=================================\n",
      "Name: arxiv\n",
      "\n",
      "Published: 2024-11-22\n",
      "Title: Who is Funding Indian Research? A look at major funding sources acknowledged in Indian research papers\n",
      "Authors: Vivek Kumar Singh, Prashasti Singh, Anurag Kanaujia, Abhirup Nandy\n",
      "Summary: Science and scientific research activities, in addition to the involvement of\n",
      "the researchers, require resources like research infrastructure, materials and\n",
      "reagents, databases and computational tools, journal subscriptions and\n",
      "publication charges etc. In order to meet these require\n",
      "==================================\u001b[1m Ai Message \u001b[0m==================================\n",
      "\n",
      "Here's the information based on the tools provided:\n",
      "\n",
      "**Recent AI News Highlights:**\n",
      "1. **AI-Enhanced Drone Swarms** (June 1, 2025):  \n",
      "Ukraine reportedly deployed AI-powered drone swarms in \"Operation Spider Web\" against Russian forces. These drones are described as low-cost (comparable to an iPhone 16 Pro), marking a shift toward affordable autonomous warfare systems.\n",
      "\n",
      "2. **Nvidia CEO's Warning** (May 30, 2025):  \n",
      "Jensen Huang emphasized that professionals resisting AI adoption risk obsolescence, stressing urgency for upskilling in the AI-driven job market.\n",
      "\n",
      "3. **Monash University's AI Supercomputer** (May 31, 2025):  \n",
      "Australia’s first university to invest in an AI supercomputer, accelerating research in AI, medicine, and engineering.\n",
      "\n",
      "---\n",
      "\n",
      "**Quantum Computing Research Paper Issue:**  \n",
      "The ArXiv search returned a paper titled *\"[Who is Funding Indian Research?]\"* (2024-11-22), which focuses on research funding in India but is unrelated to quantum computing. This appears to be an incorrect match. For better results, I’d recommend retrying the search with a more specific query like **\"recent quantum computing breakthroughs 2024\"** to find relevant papers.\n",
      "\n",
      "Let me know if you’d like me to refine these searches further!\n"
     ]
    }
   ],
   "source": [
    "messages=graph.invoke({\"messages\":\"What is the recent AI news and then please tell me the recent research paper on quantum computing?\"})\n",
    "for m in messages['messages']:\n",
    "    m.pretty_print()"
   ]
  },
  {
   "cell_type": "code",
   "execution_count": null,
   "metadata": {},
   "outputs": [],
   "source": []
  }
 ],
 "metadata": {
  "kernelspec": {
   "display_name": ".venv",
   "language": "python",
   "name": "python3"
  },
  "language_info": {
   "codemirror_mode": {
    "name": "ipython",
    "version": 3
   },
   "file_extension": ".py",
   "mimetype": "text/x-python",
   "name": "python",
   "nbconvert_exporter": "python",
   "pygments_lexer": "ipython3",
   "version": "3.13.4"
  }
 },
 "nbformat": 4,
 "nbformat_minor": 2
}
